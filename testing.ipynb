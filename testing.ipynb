{
 "cells": [
  {
   "cell_type": "code",
   "execution_count": 1,
   "id": "ec73f58a",
   "metadata": {},
   "outputs": [],
   "source": [
    "from sentence_transformers import SentenceTransformer, util\n",
    "model = SentenceTransformer('all-MiniLM-L6-v2')"
   ]
  },
  {
   "cell_type": "code",
   "execution_count": 3,
   "id": "ec35a8b2",
   "metadata": {},
   "outputs": [],
   "source": [
    "def cos_sim_test(s1, s2):\n",
    "    emb1 = model.encode(s1)\n",
    "    emb2 = model.encode(s2)\n",
    "    cos_sim = float(util.cos_sim(emb1, emb2))\n",
    "    return cos_sim"
   ]
  },
  {
   "cell_type": "code",
   "execution_count": 4,
   "id": "72b87230",
   "metadata": {},
   "outputs": [],
   "source": [
    "tests = [\n",
    "    [\"cat\", \"dog\"], \n",
    "    [\"cat\", \"Cat\"],\n",
    "    [\"Hark upon the Gale\", \"Once upon a time\"],\n",
    "    [\"Hark upon the Gale\", \"Professor Angela Gao\"]\n",
    "]"
   ]
  },
  {
   "cell_type": "code",
   "execution_count": 7,
   "id": "ffbc92da",
   "metadata": {},
   "outputs": [
    {
     "ename": "TypeError",
     "evalue": "round() takes at most 2 arguments (3 given)",
     "output_type": "error",
     "traceback": [
      "\u001b[0;31m---------------------------------------------------------------------------\u001b[0m",
      "\u001b[0;31mTypeError\u001b[0m                                 Traceback (most recent call last)",
      "Cell \u001b[0;32mIn[7], line 2\u001b[0m\n\u001b[1;32m      1\u001b[0m \u001b[38;5;28;01mfor\u001b[39;00m pair \u001b[38;5;129;01min\u001b[39;00m tests:\n\u001b[0;32m----> 2\u001b[0m     \u001b[38;5;28mprint\u001b[39m(\u001b[38;5;124mf\u001b[39m\u001b[38;5;124m\"\u001b[39m\u001b[38;5;132;01m{\u001b[39;00m\u001b[38;5;28mround\u001b[39m(cos_sim_test(pair[\u001b[38;5;241m0\u001b[39m],\u001b[38;5;250m \u001b[39mpair[\u001b[38;5;241m1\u001b[39m]),\u001b[38;5;241m5\u001b[39m,\u001b[38;5;241m0\u001b[39m)\u001b[38;5;132;01m}\u001b[39;00m\u001b[38;5;124m  |  \u001b[39m\u001b[38;5;132;01m{\u001b[39;00mpair\u001b[38;5;132;01m}\u001b[39;00m\u001b[38;5;124m\"\u001b[39m)\n",
      "\u001b[0;31mTypeError\u001b[0m: round() takes at most 2 arguments (3 given)"
     ]
    }
   ],
   "source": [
    "for pair in tests:\n",
    "    print(f\"{round(cos_sim_test(pair[0], pair[1]),5)}  |  {pair}\")"
   ]
  },
  {
   "cell_type": "code",
   "execution_count": null,
   "id": "7dec70a0",
   "metadata": {},
   "outputs": [],
   "source": []
  }
 ],
 "metadata": {
  "kernelspec": {
   "display_name": "Python 3 (ipykernel)",
   "language": "python",
   "name": "python3"
  },
  "language_info": {
   "codemirror_mode": {
    "name": "ipython",
    "version": 3
   },
   "file_extension": ".py",
   "mimetype": "text/x-python",
   "name": "python",
   "nbconvert_exporter": "python",
   "pygments_lexer": "ipython3",
   "version": "3.11.4"
  }
 },
 "nbformat": 4,
 "nbformat_minor": 5
}
